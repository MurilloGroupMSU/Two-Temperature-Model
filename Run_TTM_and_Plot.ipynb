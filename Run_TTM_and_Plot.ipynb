{
 "cells": [
  {
   "cell_type": "markdown",
   "metadata": {
    "id": "Kh2SsMvMmmni"
   },
   "source": [
    "____\n",
    "\n",
    "# <font color=#FFAA11> Two-Temperature Model </font>\n",
    "\n",
    "The TTM considered here is given by\n",
    "$$\\begin{align}\n",
    "c_e \\frac{\\partial T_e}{\\partial t} &= \\frac{1}{r}\\frac{\\partial}{\\partial r}\\left(r k_e \\frac{\\partial T_e}{\\partial r}\\right) - G (T_e - T_i), \\\\\n",
    "c_i\\frac{\\partial T_i}{\\partial t} &= \\frac{1}{r}\\frac{\\partial}{\\partial r}\\left(r k_i \\frac{\\partial T_i}{\\partial r}\\right) + G (T_e - T_i),\n",
    "\\end{align}\n",
    "$$\n",
    "\n",
    "which assumes a cylindrical plasma composed of electrons and ions with no mass flow. \n",
    "\n",
    "Main areas where major improvements are needed:\n",
    "1. Plasma Formulary version of parameters\n",
    "2. Allow density variation \n",
    "3. Nicer visualizations, including animations, would be nice to have in the long run.\n",
    "\n",
    "Current Bug- Electron Heat Capacity definitely not right!"
   ]
  },
  {
   "cell_type": "code",
   "execution_count": 1,
   "metadata": {},
   "outputs": [
    {
     "data": {
      "text/html": [
       "\n",
       "<style>\n",
       ".output_png {\n",
       "    display: table-cell;\n",
       "    text-align: center;\n",
       "    vertical-align: middle;\n",
       "}\n",
       "</style>\n"
      ],
      "text/plain": [
       "<IPython.core.display.HTML object>"
      ]
     },
     "execution_count": 1,
     "metadata": {},
     "output_type": "execute_result"
    }
   ],
   "source": [
    "import numpy as np\n",
    "import matplotlib.pyplot as plt\n",
    "from physics import JT_GMS, SMT\n",
    "from constants import *\n",
    "prop_cycle = plt.rcParams['axes.prop_cycle']\n",
    "colors = prop_cycle.by_key()['color']\n",
    "\n",
    "from exp_setup import Cylindrical_Grid, Experiment\n",
    "from TTM_solver import TwoTemperatureModel\n",
    "\n",
    "from IPython.core.display import HTML\n",
    "HTML(\"\"\"\n",
    "<style>\n",
    ".output_png {\n",
    "    display: table-cell;\n",
    "    text-align: center;\n",
    "    vertical-align: middle;\n",
    "}\n",
    "</style>\n",
    "\"\"\")"
   ]
  },
  {
   "cell_type": "markdown",
   "metadata": {},
   "source": [
    "# Create Experimental Information"
   ]
  },
  {
   "cell_type": "code",
   "execution_count": 2,
   "metadata": {},
   "outputs": [
    {
     "name": "stdout",
     "output_type": "stream",
     "text": [
      "Current Te profile not exact, needs self-consistency condition.\n",
      "Current Te profile not exact, needs self-consistency condition.\n"
     ]
    },
    {
     "ename": "TypeError",
     "evalue": "SMT.gij_plasma_parameter() takes 9 positional arguments but 10 were given",
     "output_type": "error",
     "traceback": [
      "\u001b[0;31m---------------------------------------------------------------------------\u001b[0m",
      "\u001b[0;31mTypeError\u001b[0m                                 Traceback (most recent call last)",
      "\u001b[0;32m/tmp/ipykernel_83057/3968651357.py\u001b[0m in \u001b[0;36m<module>\u001b[0;34m\u001b[0m\n\u001b[1;32m      9\u001b[0m \u001b[0mttm_jt\u001b[0m \u001b[0;34m=\u001b[0m \u001b[0mTwoTemperatureModel\u001b[0m\u001b[0;34m(\u001b[0m\u001b[0mArgon_jt\u001b[0m\u001b[0;34m,\u001b[0m \u001b[0mmodel\u001b[0m \u001b[0;34m=\u001b[0m \u001b[0;34m\"JT\"\u001b[0m\u001b[0;34m)\u001b[0m\u001b[0;34m\u001b[0m\u001b[0;34m\u001b[0m\u001b[0m\n\u001b[1;32m     10\u001b[0m \u001b[0;34m\u001b[0m\u001b[0m\n\u001b[0;32m---> 11\u001b[0;31m \u001b[0mArgon_smt\u001b[0m \u001b[0;34m=\u001b[0m \u001b[0mExperiment\u001b[0m\u001b[0;34m(\u001b[0m\u001b[0mgrid\u001b[0m\u001b[0;34m,\u001b[0m \u001b[0mn0\u001b[0m\u001b[0;34m,\u001b[0m \u001b[0mZstar\u001b[0m\u001b[0;34m,\u001b[0m \u001b[0mA\u001b[0m\u001b[0;34m,\u001b[0m \u001b[0mTe_initial\u001b[0m\u001b[0;34m,\u001b[0m \u001b[0mTi_initial\u001b[0m\u001b[0;34m,\u001b[0m\u001b[0mlaser_width\u001b[0m\u001b[0;34m,\u001b[0m \u001b[0mgas_name\u001b[0m\u001b[0;34m=\u001b[0m\u001b[0;34m'Argon'\u001b[0m\u001b[0;34m,\u001b[0m \u001b[0mmodel\u001b[0m \u001b[0;34m=\u001b[0m \u001b[0;34m\"SMT\"\u001b[0m\u001b[0;34m)\u001b[0m\u001b[0;34m\u001b[0m\u001b[0;34m\u001b[0m\u001b[0m\n\u001b[0m\u001b[1;32m     12\u001b[0m \u001b[0mttm_smt\u001b[0m \u001b[0;34m=\u001b[0m \u001b[0mTwoTemperatureModel\u001b[0m\u001b[0;34m(\u001b[0m\u001b[0mArgon_smt\u001b[0m\u001b[0;34m,\u001b[0m \u001b[0mmodel\u001b[0m \u001b[0;34m=\u001b[0m \u001b[0;34m\"SMT\"\u001b[0m\u001b[0;34m)\u001b[0m\u001b[0;34m\u001b[0m\u001b[0;34m\u001b[0m\u001b[0m\n",
      "\u001b[0;32m~/plasma/TTM/exp_setup.py\u001b[0m in \u001b[0;36m__init__\u001b[0;34m(self, grid, n0, Z, A, Te_initial, Ti_initial, laser_width, gas_name, model)\u001b[0m\n\u001b[1;32m     65\u001b[0m         \u001b[0mself\u001b[0m\u001b[0;34m.\u001b[0m\u001b[0mmake_T_profiles\u001b[0m\u001b[0;34m(\u001b[0m\u001b[0;34m)\u001b[0m\u001b[0;34m\u001b[0m\u001b[0;34m\u001b[0m\u001b[0m\n\u001b[1;32m     66\u001b[0m         \u001b[0mself\u001b[0m\u001b[0;34m.\u001b[0m\u001b[0mmake_n_e_profile\u001b[0m\u001b[0;34m(\u001b[0m\u001b[0;34m)\u001b[0m\u001b[0;34m\u001b[0m\u001b[0;34m\u001b[0m\u001b[0m\n\u001b[0;32m---> 67\u001b[0;31m         \u001b[0mself\u001b[0m\u001b[0;34m.\u001b[0m\u001b[0mmake_physical_timescales\u001b[0m\u001b[0;34m(\u001b[0m\u001b[0;34m)\u001b[0m\u001b[0;34m\u001b[0m\u001b[0;34m\u001b[0m\u001b[0m\n\u001b[0m\u001b[1;32m     68\u001b[0m \u001b[0;34m\u001b[0m\u001b[0m\n\u001b[1;32m     69\u001b[0m     \u001b[0;32mdef\u001b[0m \u001b[0mmake_T_profiles\u001b[0m\u001b[0;34m(\u001b[0m\u001b[0mself\u001b[0m\u001b[0;34m)\u001b[0m\u001b[0;34m:\u001b[0m\u001b[0;34m\u001b[0m\u001b[0;34m\u001b[0m\u001b[0m\n",
      "\u001b[0;32m~/plasma/TTM/exp_setup.py\u001b[0m in \u001b[0;36mmake_physical_timescales\u001b[0;34m(self)\u001b[0m\n\u001b[1;32m    140\u001b[0m                                       self.Zbar[0], self.Te[0], self.Ti[0])\n\u001b[1;32m    141\u001b[0m \u001b[0;34m\u001b[0m\u001b[0m\n\u001b[0;32m--> 142\u001b[0;31m         \u001b[0mself\u001b[0m\u001b[0;34m.\u001b[0m\u001b[0mτei_Equilibration\u001b[0m\u001b[0;34m,\u001b[0m \u001b[0mself\u001b[0m\u001b[0;34m.\u001b[0m\u001b[0mτie_Equilibration\u001b[0m \u001b[0;34m=\u001b[0m \u001b[0mself\u001b[0m\u001b[0;34m.\u001b[0m\u001b[0mparams\u001b[0m\u001b[0;34m.\u001b[0m\u001b[0mei_relaxation_times\u001b[0m\u001b[0;34m(\u001b[0m\u001b[0mn_e\u001b[0m\u001b[0;34m,\u001b[0m \u001b[0mn_i\u001b[0m\u001b[0;34m,\u001b[0m \u001b[0mm_i\u001b[0m\u001b[0;34m,\u001b[0m \u001b[0mZbar\u001b[0m\u001b[0;34m,\u001b[0m \u001b[0mTe\u001b[0m\u001b[0;34m,\u001b[0m \u001b[0mTi\u001b[0m\u001b[0;34m)\u001b[0m\u001b[0;34m\u001b[0m\u001b[0;34m\u001b[0m\u001b[0m\n\u001b[0m\u001b[1;32m    143\u001b[0m         \u001b[0mself\u001b[0m\u001b[0;34m.\u001b[0m\u001b[0mτDiff_e_rmax\u001b[0m \u001b[0;34m=\u001b[0m \u001b[0mself\u001b[0m\u001b[0;34m.\u001b[0m\u001b[0mgrid\u001b[0m\u001b[0;34m.\u001b[0m\u001b[0mr_max\u001b[0m\u001b[0;34m**\u001b[0m\u001b[0;36m2\u001b[0m \u001b[0;34m/\u001b[0m \u001b[0mself\u001b[0m\u001b[0;34m.\u001b[0m\u001b[0mparams\u001b[0m\u001b[0;34m.\u001b[0m\u001b[0melectron_diffusivity\u001b[0m\u001b[0;34m(\u001b[0m\u001b[0mn_e\u001b[0m\u001b[0;34m,\u001b[0m \u001b[0mn_i\u001b[0m\u001b[0;34m,\u001b[0m \u001b[0mm_i\u001b[0m\u001b[0;34m,\u001b[0m \u001b[0mZbar\u001b[0m\u001b[0;34m,\u001b[0m \u001b[0mTe\u001b[0m\u001b[0;34m,\u001b[0m \u001b[0mTi\u001b[0m\u001b[0;34m)\u001b[0m\u001b[0;34m\u001b[0m\u001b[0;34m\u001b[0m\u001b[0m\n\u001b[1;32m    144\u001b[0m         \u001b[0mself\u001b[0m\u001b[0;34m.\u001b[0m\u001b[0mτDiff_i_rmax\u001b[0m \u001b[0;34m=\u001b[0m \u001b[0mself\u001b[0m\u001b[0;34m.\u001b[0m\u001b[0mgrid\u001b[0m\u001b[0;34m.\u001b[0m\u001b[0mr_max\u001b[0m\u001b[0;34m**\u001b[0m\u001b[0;36m2\u001b[0m \u001b[0;34m/\u001b[0m \u001b[0mself\u001b[0m\u001b[0;34m.\u001b[0m\u001b[0mparams\u001b[0m\u001b[0;34m.\u001b[0m\u001b[0mion_diffusivity\u001b[0m\u001b[0;34m(\u001b[0m\u001b[0mn_e\u001b[0m\u001b[0;34m,\u001b[0m \u001b[0mn_i\u001b[0m\u001b[0;34m,\u001b[0m \u001b[0mm_i\u001b[0m\u001b[0;34m,\u001b[0m \u001b[0mZbar\u001b[0m\u001b[0;34m,\u001b[0m \u001b[0mTe\u001b[0m\u001b[0;34m,\u001b[0m \u001b[0mTi\u001b[0m\u001b[0;34m)\u001b[0m\u001b[0;34m\u001b[0m\u001b[0;34m\u001b[0m\u001b[0m\n",
      "\u001b[0;32m~/plasma/TTM/physics.py\u001b[0m in \u001b[0;36mei_relaxation_times\u001b[0;34m(cls, n_e, n_i, m_i, Z_i, Te, Ti)\u001b[0m\n\u001b[1;32m    710\u001b[0m         \u001b[0mTij\u001b[0m \u001b[0;34m=\u001b[0m \u001b[0mcls\u001b[0m\u001b[0;34m.\u001b[0m\u001b[0maverage_temperature\u001b[0m\u001b[0;34m(\u001b[0m\u001b[0mm_e\u001b[0m\u001b[0;34m,\u001b[0m \u001b[0mTe\u001b[0m\u001b[0;34m,\u001b[0m \u001b[0mm_i\u001b[0m\u001b[0;34m,\u001b[0m \u001b[0mTi\u001b[0m\u001b[0;34m)\u001b[0m\u001b[0;34m\u001b[0m\u001b[0;34m\u001b[0m\u001b[0m\n\u001b[1;32m    711\u001b[0m         \u001b[0mZij\u001b[0m \u001b[0;34m=\u001b[0m \u001b[0mZ_i\u001b[0m\u001b[0;34m\u001b[0m\u001b[0;34m\u001b[0m\u001b[0m\n\u001b[0;32m--> 712\u001b[0;31m         \u001b[0mgei\u001b[0m \u001b[0;34m=\u001b[0m \u001b[0mcls\u001b[0m\u001b[0;34m.\u001b[0m\u001b[0mgij_plasma_parameter\u001b[0m\u001b[0;34m(\u001b[0m\u001b[0mn_e\u001b[0m\u001b[0;34m,\u001b[0m \u001b[0mTe\u001b[0m\u001b[0;34m,\u001b[0m \u001b[0mn_i\u001b[0m\u001b[0;34m,\u001b[0m \u001b[0mTi\u001b[0m\u001b[0;34m,\u001b[0m \u001b[0mm_i\u001b[0m\u001b[0;34m,\u001b[0m \u001b[0mTi\u001b[0m\u001b[0;34m,\u001b[0m \u001b[0mZ_i\u001b[0m\u001b[0;34m,\u001b[0m \u001b[0mTij\u001b[0m\u001b[0;34m,\u001b[0m \u001b[0mZij\u001b[0m\u001b[0;34m)\u001b[0m\u001b[0;34m\u001b[0m\u001b[0;34m\u001b[0m\u001b[0m\n\u001b[0m\u001b[1;32m    713\u001b[0m \u001b[0;34m\u001b[0m\u001b[0m\n\u001b[1;32m    714\u001b[0m         \u001b[0mK11\u001b[0m \u001b[0;34m=\u001b[0m \u001b[0mcls\u001b[0m\u001b[0;34m.\u001b[0m\u001b[0mcollision_integral\u001b[0m\u001b[0;34m(\u001b[0m\u001b[0;36m1\u001b[0m\u001b[0;34m,\u001b[0m\u001b[0;36m1\u001b[0m\u001b[0;34m,\u001b[0m\u001b[0mgei\u001b[0m\u001b[0;34m)\u001b[0m\u001b[0;34m\u001b[0m\u001b[0;34m\u001b[0m\u001b[0m\n",
      "\u001b[0;31mTypeError\u001b[0m: SMT.gij_plasma_parameter() takes 9 positional arguments but 10 were given"
     ]
    }
   ],
   "source": [
    "grid  = Cylindrical_Grid(200e-6) \n",
    "Zstar, A = 18, 40\n",
    "Te_initial, Ti_initial = 18000, 10300 #[K]\n",
    "laser_width = 50e-6 # [m]\n",
    "n0 = 6.3e26\n",
    "\n",
    "# Create Experimental layout and TTM solver\n",
    "Argon_jt = Experiment(grid, n0, Zstar, A, Te_initial, Ti_initial,laser_width, gas_name='Argon', model = \"JT\")\n",
    "ttm_jt = TwoTemperatureModel(Argon_jt, model = \"JT\")\n",
    "\n",
    "Argon_smt = Experiment(grid, n0, Zstar, A, Te_initial, Ti_initial,laser_width, gas_name='Argon', model = \"SMT\")\n",
    "ttm_smt = TwoTemperatureModel(Argon_smt, model = \"SMT\")"
   ]
  },
  {
   "cell_type": "code",
   "execution_count": null,
   "metadata": {},
   "outputs": [],
   "source": [
    "print(Argon_jt.params.electron_thermal_conductivity(Argon_jt.n_e, Argon_jt.n_i, Argon_jt.m_i, Argon_jt.Zbar, Argon_jt.Te, Argon_jt.Ti)/JT_GMS.electron_heat_capacity(Argon_jt.n_e,Argon_jt.Te))\n",
    "print(Argon_smt.params.electron_thermal_conductivity(Argon_smt.n_e, Argon_smt.n_i, Argon_smt.m_i, Argon_smt.Zbar, Argon_smt.Te, Argon_smt.Ti)/SMT.electron_heat_capacity(Argon_smt.n_e,Argon_smt.Te))"
   ]
  },
  {
   "cell_type": "code",
   "execution_count": null,
   "metadata": {},
   "outputs": [],
   "source": [
    "print(\"JT Model\")\n",
    "ttm_jt.make_times()\n",
    "ttm_jt.print_timescales()\n",
    "\n",
    "print(\"\\nSMT Model\")\n",
    "ttm_smt.make_times()\n",
    "ttm_smt.print_timescales()"
   ]
  },
  {
   "cell_type": "markdown",
   "metadata": {},
   "source": [
    "# Solve Two Temperature Model"
   ]
  },
  {
   "cell_type": "code",
   "execution_count": null,
   "metadata": {},
   "outputs": [],
   "source": [
    "JT_GMS.ei_relaxation_times(ttm_jt.n_e, ttm_jt.n_i,ttm_jt.experiment.m_i, ttm_jt.Zbar, ttm_jt.Te,ttm_jt.Ti)"
   ]
  },
  {
   "cell_type": "code",
   "execution_count": null,
   "metadata": {},
   "outputs": [],
   "source": [
    "ttm_jt.solve_TTM(tmax=4.5e-9)\n",
    "ttm_smt.solve_TTM(tmax=4.5e-9)"
   ]
  },
  {
   "cell_type": "markdown",
   "metadata": {},
   "source": [
    "# PLOTS"
   ]
  },
  {
   "cell_type": "code",
   "execution_count": null,
   "metadata": {
    "colab": {
     "base_uri": "https://localhost:8080/",
     "height": 470
    },
    "executionInfo": {
     "elapsed": 1005,
     "status": "ok",
     "timestamp": 1682701414418,
     "user": {
      "displayName": "Michael Murillo",
      "userId": "04445914509865448303"
     },
     "user_tz": 240
    },
    "id": "cpw85O8yVey5",
    "outputId": "c1031d83-3d81-4897-894f-78b416fbf082"
   },
   "outputs": [],
   "source": [
    "def plot_temp_profiles(ttm, grid, plot_times = None, ax = None, title=''):\n",
    "\n",
    "    if plot_times is None:\n",
    "        plot_times = (np.linspace(0,len(ttm.t_list)*0.99,num=4,endpoint=True)).astype(int)  # Intermediate times for plotting        \n",
    "        \n",
    "    # Plot temperature profiles at intermediate times\n",
    "    \n",
    "    if ax is None:\n",
    "        fig, ax = plt.subplots(figsize=(14,10),facecolor='w')\n",
    "    \n",
    "    plot_idx = 0\n",
    "    for plot_idx, ti in enumerate(plot_times):\n",
    "        t = ttm_jt.t_list[ti]\n",
    "        ax.plot(grid.cell_centers*1e6, ttm.Te_list[ti][:-1]*1e-3, '--', color=colors[plot_idx], label=f\"$T_e$: t={t*1e9:.1e} [ns]\")\n",
    "        ax.plot(grid.cell_centers*1e6, ttm.Ti_list[ti][:-1]*1e-3, '-' , color=colors[plot_idx], label=f\"$T_i$: t={t*1e9:.1e} [ns]\")\n",
    "        # plot_idx += 1\n",
    "\n",
    "\n",
    "    # Plot settings\n",
    "    ax.set_xlabel(r\"Radial distance [$\\mu$m]\",fontsize=20)\n",
    "    ax.set_ylabel(\"Temperature [kK]\",fontsize=20)\n",
    "    ax.tick_params(labelsize=20)\n",
    "    # ax.set_ylim(0,10.1)\n",
    "    ax.legend(fontsize=15)\n",
    "    ax.grid(alpha = 0.3)\n",
    "    ax.set_title(title, fontsize=20)\n"
   ]
  },
  {
   "cell_type": "code",
   "execution_count": null,
   "metadata": {},
   "outputs": [],
   "source": [
    "fig, ax = plt.subplots(1,2, figsize=(14,10),facecolor='w')\n",
    "\n",
    "plot_temp_profiles(ttm_jt, grid, ax = ax[0], title='JT')\n",
    "plot_temp_profiles(ttm_smt, grid, ax = ax[1], title='SMT')\n"
   ]
  },
  {
   "cell_type": "code",
   "execution_count": null,
   "metadata": {},
   "outputs": [],
   "source": [
    "ttm  = ttm_jt\n",
    "fig, ax = plt.subplots(figsize=(14,10),facecolor='w')\n",
    "\n",
    "ti_1, ti_2 = -20000, -1\n",
    "ti_1, ti_2 = -100, -1\n",
    "T_av_1 = (ttm.Ti_list[ti_1][0] + ttm.Te_list[ti_1][0] )/2\n",
    "T_av_2 = (ttm.Ti_list[ti_2][0] + ttm.Te_list[ti_2][0] )/2\n",
    "dT_dt  = (T_av_2 - T_av_1)/(ttm.t_list[ti_2] - ttm.t_list[ti_1])\n",
    "T_eq_line  = np.array(T_av_1 + dT_dt*(ttm.t_list-ttm.t_list[ti_1]))\n",
    "\n",
    "T_av = 0.5*(np.array(ttm.Te_list) + np.array(ttm.Ti_list))\n",
    "\n",
    "\n",
    "ax.plot(np.array(ttm.t_list)*1e9, np.array(ttm.Te_list).T[0]*1e-3,label=r\"$T_e$ (origin)\")\n",
    "ax.plot(np.array(ttm.t_list)*1e9, np.array(ttm.Ti_list).T[0]*1e-3,label=r\"$T_i$ (origin)\")\n",
    "ax.plot(np.array(ttm.t_list)*1e9, T_eq_line*1e-3,'--k')#,label='Diffusion Estimate: dT/dt={0:.2f} [K/ns]'.format(dT_dt*1e-9))\n",
    "ax.plot(np.array(ttm.t_list)*1e9, T_av[:,0]*1e-3,'--k',label='Average (initial: T={0:.2f} [kK])'.format(T_av[0,0]*1e-3))\n",
    "\n",
    "ax.annotate(r'$\\tau_{th}$' + ' = {0:.1f} [ps]'.format(ttm.experiment.τei_Equilibration*1e12), xy=(0.1, 0.6), xycoords='figure fraction',\n",
    "            xytext=(0.3, .8), textcoords='axes fraction',\n",
    "            va='top', ha='left',fontsize=20,\n",
    "            arrowprops=dict(facecolor='black', shrink=0.02))\n",
    "\n",
    "ax.annotate('Diffusion Estimate:\\n dT/dt={0:.2f} [K/ns]'.format(dT_dt*1e-9), xy=(0.5, 0.2), xycoords='figure fraction',\n",
    "            xytext=(0.5, .4), textcoords='axes fraction',\n",
    "            va='top', ha='left',fontsize=20,\n",
    "            arrowprops=dict(facecolor='black', shrink=0.02))\n",
    "\n",
    "\n",
    "# Plot settings\n",
    "ax.set_xlabel(r\"Time (ns)\", fontsize=20)\n",
    "ax.set_ylabel(\"Temperature [kK]\",fontsize=20)\n",
    "ax.tick_params(labelsize=20)\n",
    "ax.set_xlim(0,ttm.tmax*1e9)\n",
    "\n",
    "ax.set_title('Argon Gas Breakdown Thermalization',fontsize=20)\n",
    "ax.legend(fontsize=17)\n",
    "plt.show()"
   ]
  },
  {
   "cell_type": "markdown",
   "metadata": {},
   "source": [
    "### Bulk Temperature Measurement"
   ]
  },
  {
   "cell_type": "code",
   "execution_count": null,
   "metadata": {},
   "outputs": [],
   "source": [
    "width_index = np.argmin(np.abs(grid.r - Argon.laser_width))\n",
    "\n",
    "Te_bulks = np.array([  grid.integrate_f(Te[:-1]*ttm.n_e[:-1], endpoint=width_index)/grid.integrate_f(ttm.n_e[:-1], endpoint=width_index) for Te in ttm.Te_list])\n",
    "Ti_bulks = np.array([  grid.integrate_f(Ti[:-1]*ttm.n_i[:-1], endpoint=width_index)/grid.integrate_f(ttm.n_i[:-1], endpoint=width_index) for Ti in ttm.Ti_list])\n",
    "T_av = 0.5*(Te_bulks + Ti_bulks)\n"
   ]
  },
  {
   "cell_type": "code",
   "execution_count": null,
   "metadata": {},
   "outputs": [],
   "source": [
    "Te_bulks, Ti_bulks, T_av"
   ]
  },
  {
   "cell_type": "code",
   "execution_count": null,
   "metadata": {},
   "outputs": [],
   "source": [
    "ttm.Te_list[0][width_index]"
   ]
  },
  {
   "cell_type": "code",
   "execution_count": null,
   "metadata": {},
   "outputs": [],
   "source": [
    "fig, ax = plt.subplots(figsize=(14,10),facecolor='w')\n",
    "\n",
    "\n",
    "# ti_1, ti_2 = -20000, -1\n",
    "ti_1, ti_2 = -100, -1\n",
    "\n",
    "T_av_1 = T_av[ti_1]\n",
    "T_av_2 = T_av[ti_2]\n",
    "\n",
    "dT_dt  = (T_av_2 - T_av_1)/(ttm.t_list[ti_2] - ttm.t_list[ti_1])\n",
    "\n",
    "T_eq_line  = np.array(T_av_1 + dT_dt*(ttm.t_list-ttm.t_list[ti_1]))\n",
    "\n",
    "\n",
    "ax.plot(np.array(ttm.t_list)*1e9, Te_bulks*1e-3,label=r\"$T_e$ (bulk)\")\n",
    "ax.plot(np.array(ttm.t_list)*1e9, Ti_bulks*1e-3,label=r\"$T_i$ (bulk)\")\n",
    "ax.plot(np.array(ttm.t_list)*1e9, T_eq_line*1e-3,'--k')#,label='Diffusion Estimate: dT/dt={0:.2f} [K/ns]'.format(dT_dt*1e-9))\n",
    "ax.plot(np.array(ttm.t_list)*1e9, T_av*1e-3,'-k',label='Average (initial: T={0:.2f} [kK])'.format(T_av[0]*1e-3))\n",
    "\n",
    "ax.annotate(r'$\\tau_{th}$' + ' = {0:.1f} [ps]'.format(ttm.experiment.τei_Equilibration*1e12), xy=(0.1, 0.6), xycoords='figure fraction',\n",
    "            xytext=(0.3, .8), textcoords='axes fraction',\n",
    "            va='top', ha='left',fontsize=20,\n",
    "            arrowprops=dict(facecolor='black', shrink=0.02))\n",
    "\n",
    "ax.annotate('Diffusion Estimate:\\n dT/dt={0:.2f} [K/ns]'.format(dT_dt*1e-9), xy=(0.5, 0.2), xycoords='figure fraction',\n",
    "            xytext=(0.5, .4), textcoords='axes fraction',\n",
    "            va='top', ha='left',fontsize=20,\n",
    "            arrowprops=dict(facecolor='black', shrink=0.02))\n",
    "\n",
    "\n",
    "# Plot settings\n",
    "ax.set_xlabel(r\"Time (ns)\", fontsize=20)\n",
    "ax.set_ylabel(\"Temperature [kK]\",fontsize=20)\n",
    "ax.tick_params(labelsize=20)\n",
    "ax.set_xlim(0,ttm.tmax*1e9)\n",
    "\n",
    "ax.set_title('Argon Gas Breakdown Thermalization',fontsize=20)\n",
    "ax.legend(fontsize=17)\n",
    "plt.show()"
   ]
  },
  {
   "cell_type": "code",
   "execution_count": null,
   "metadata": {},
   "outputs": [],
   "source": []
  },
  {
   "cell_type": "code",
   "execution_count": null,
   "metadata": {},
   "outputs": [],
   "source": []
  }
 ],
 "metadata": {
  "colab": {
   "authorship_tag": "ABX9TyN+1dshuzPK/lo9RA0AbK4s",
   "provenance": []
  },
  "kernelspec": {
   "display_name": "Python 3 (ipykernel)",
   "language": "python",
   "name": "python3"
  },
  "language_info": {
   "codemirror_mode": {
    "name": "ipython",
    "version": 3
   },
   "file_extension": ".py",
   "mimetype": "text/x-python",
   "name": "python",
   "nbconvert_exporter": "python",
   "pygments_lexer": "ipython3",
   "version": "3.10.6"
  }
 },
 "nbformat": 4,
 "nbformat_minor": 1
}
