{
 "cells": [
  {
   "cell_type": "code",
   "execution_count": 1,
   "id": "bcc12530",
   "metadata": {},
   "outputs": [
    {
     "data": {
      "text/html": [
       "\n",
       "<style>\n",
       ".output_png {\n",
       "    display: table-cell;\n",
       "    text-align: center;\n",
       "    vertical-align: middle;\n",
       "}\n",
       "</style>\n"
      ],
      "text/plain": [
       "<IPython.core.display.HTML object>"
      ]
     },
     "execution_count": 1,
     "metadata": {},
     "output_type": "execute_result"
    }
   ],
   "source": [
    "import numpy as np\n",
    "import matplotlib.pyplot as plt\n",
    "from physics import JT_GMS, SMT\n",
    "from constants import *\n",
    "prop_cycle = plt.rcParams['axes.prop_cycle']\n",
    "colors = prop_cycle.by_key()['color']\n",
    "\n",
    "from exp_setup import Cylindrical_Grid, Experiment\n",
    "from TTM_solver import TwoTemperatureModel\n",
    "\n",
    "from IPython.core.display import HTML\n",
    "HTML(\"\"\"\n",
    "<style>\n",
    ".output_png {\n",
    "    display: table-cell;\n",
    "    text-align: center;\n",
    "    vertical-align: middle;\n",
    "}\n",
    "</style>\n",
    "\"\"\")"
   ]
  },
  {
   "cell_type": "code",
   "execution_count": 2,
   "id": "bed6e034",
   "metadata": {},
   "outputs": [
    {
     "name": "stdout",
     "output_type": "stream",
     "text": [
      "Current Te profile not exact, needs self-consistency condition.\n",
      "Current Te profile not exact, needs self-consistency condition.\n"
     ]
    }
   ],
   "source": [
    "grid  = Cylindrical_Grid(200e-6) \n",
    "Zstar, A = 18, 40\n",
    "Te_initial, Ti_initial = 18000, 10300 #[K]\n",
    "laser_width = 50e-6 # [m]\n",
    "n0 = 6.3e26\n",
    "\n",
    "# Create Experimental layout and TTM solver\n",
    "Argon_jt = Experiment(grid, n0, Zstar, A, Te_initial, Ti_initial,laser_width, gas_name='Argon', model = \"JT\")\n",
    "ttm_jt = TwoTemperatureModel(Argon_jt, model = \"JT\")\n",
    "\n",
    "Argon_smt = Experiment(grid, n0, Zstar, A, Te_initial, Ti_initial,laser_width, gas_name='Argon', model = \"SMT\")\n",
    "ttm_smt = TwoTemperatureModel(Argon_smt, model = \"SMT\")"
   ]
  },
  {
   "cell_type": "code",
   "execution_count": 3,
   "id": "d146d6ee",
   "metadata": {},
   "outputs": [],
   "source": [
    "n_e, n_i, m_i, Z_i, Te, Ti = Argon_jt.n_e, Argon_jt.n_i, Argon_jt.m_i, Zstar, Argon_jt.Te, Argon_jt.Ti\n"
   ]
  },
  {
   "cell_type": "code",
   "execution_count": 12,
   "id": "89acf344",
   "metadata": {},
   "outputs": [
    {
     "data": {
      "text/plain": [
       "array([1.70491616e+02, 1.71985925e+02, 1.76547218e+02, 1.84417391e+02,\n",
       "       1.96023075e+02, 2.12013814e+02, 2.33321890e+02, 2.61251362e+02,\n",
       "       2.97607841e+02, 3.44886437e+02, 4.06543896e+02, 4.87393942e+02,\n",
       "       5.94184158e+02, 7.36441885e+02, 9.27720037e+02, 1.18743827e+03,\n",
       "       1.54360912e+03, 2.03687307e+03, 2.72645070e+03, 3.69885508e+03,\n",
       "       5.08047098e+03, 7.05531516e+03, 9.88924008e+03, 1.39611091e+04,\n",
       "       1.97993169e+04, 2.81174207e+04, 3.98346677e+04, 5.60563868e+04,\n",
       "       7.79799444e+04, 1.06694905e+05, 1.42875963e+05, 1.86430436e+05,\n",
       "       2.36235391e+05, 2.90124008e+05, 3.45202375e+05, 3.98416648e+05,\n",
       "       4.47154357e+05, 4.89656839e+05, 5.25138758e+05, 5.53655917e+05,\n",
       "       5.75842191e+05, 5.92633266e+05, 6.05047406e+05, 6.14044465e+05,\n",
       "       6.20453975e+05, 6.24951928e+05, 6.28066314e+05, 6.30196512e+05,\n",
       "       6.31637104e+05, 6.32600962e+05, 6.33239277e+05, 6.33657827e+05,\n",
       "       6.33929628e+05, 6.34104457e+05, 6.34215858e+05, 6.34286182e+05,\n",
       "       6.34330166e+05, 6.34357422e+05, 6.34374157e+05, 6.34384339e+05,\n",
       "       6.34390477e+05, 6.34394143e+05, 6.34396313e+05, 6.34397586e+05,\n",
       "       6.34398326e+05, 6.34398752e+05, 6.34398995e+05, 6.34399133e+05,\n",
       "       6.34399210e+05, 6.34399252e+05, 6.34399276e+05, 6.34399289e+05,\n",
       "       6.34399296e+05, 6.34399300e+05, 6.34399301e+05, 6.34399303e+05,\n",
       "       6.34399303e+05, 6.34399303e+05, 6.34399303e+05, 6.34399304e+05,\n",
       "       6.34399304e+05, 6.34399304e+05, 6.34399304e+05, 6.34399304e+05,\n",
       "       6.34399304e+05, 6.34399304e+05, 6.34399304e+05, 6.34399304e+05,\n",
       "       6.34399304e+05, 6.34399304e+05, 6.34399304e+05, 6.34399304e+05,\n",
       "       6.34399304e+05, 6.34399304e+05, 6.34399304e+05, 6.34399304e+05,\n",
       "       6.34399304e+05, 6.34399304e+05, 6.34399304e+05, 6.34399304e+05,\n",
       "       6.34399304e+05])"
      ]
     },
     "execution_count": 12,
     "metadata": {},
     "output_type": "execute_result"
    }
   ],
   "source": [
    "(JT_GMS.Gamma(n_e,Te,)**2*JT_GMS.r_WignerSeitz(n_e)**2)/a_B**2"
   ]
  },
  {
   "cell_type": "code",
   "execution_count": 6,
   "id": "327b9c6a",
   "metadata": {},
   "outputs": [],
   "source": [
    "νe = 1/JT_GMS.ei_relaxation_times(n_e, n_i, m_i, Z_i, Te, Ti )[0]+1/JT_GMS.ee_relaxation_time(n_e, n_i, m_i, Z_i, Te, Ti )\n",
    "τe = 1/np.array(νe)\n",
    "ve = JT_GMS.electron_thermal_velocity(Te)\n",
    "vi = JT_GMS.ion_thermal_velocity(Ti,m_i)"
   ]
  },
  {
   "cell_type": "code",
   "execution_count": 7,
   "id": "18d1a82d",
   "metadata": {},
   "outputs": [
    {
     "data": {
      "text/plain": [
       "array([2.94385812e-06, 2.93752047e-06, 2.91859403e-06, 2.88733649e-06,\n",
       "       2.84417119e-06, 2.78967809e-06, 2.72458153e-06, 2.64973517e-06,\n",
       "       2.56610456e-06, 2.47474785e-06, 2.37679519e-06, 2.27342752e-06,\n",
       "       2.16585521e-06, 2.05529714e-06, 1.94296087e-06, 1.83002411e-06,\n",
       "       1.71761818e-06, 1.60681340e-06, 1.49860676e-06, 1.39391180e-06,\n",
       "       1.29355055e-06, 1.19824721e-06, 1.10862301e-06, 1.02519183e-06,\n",
       "       9.48355768e-07, 8.78400199e-07, 8.15488168e-07, 7.59654586e-07,\n",
       "       7.10801612e-07, 6.68697512e-07, 6.32981814e-07, 6.03179099e-07,\n",
       "       5.78722290e-07, 5.58983846e-07, 5.43311087e-07, 5.31060655e-07,\n",
       "       5.21627572e-07, 5.14466028e-07, 5.09101085e-07, 5.05132277e-07,\n",
       "       5.02231028e-07, 5.00134072e-07, 4.98634803e-07, 4.97574035e-07,\n",
       "       4.96831113e-07, 4.96315945e-07, 4.95962180e-07, 4.95721577e-07,\n",
       "       4.95559489e-07, 4.95451320e-07, 4.95379809e-07, 4.95332971e-07,\n",
       "       4.95302577e-07, 4.95283037e-07, 4.95270589e-07, 4.95262733e-07,\n",
       "       4.95257820e-07, 4.95254776e-07, 4.95252907e-07, 4.95251770e-07,\n",
       "       4.95251084e-07, 4.95250675e-07, 4.95250432e-07, 4.95250290e-07,\n",
       "       4.95250208e-07, 4.95250160e-07, 4.95250133e-07, 4.95250118e-07,\n",
       "       4.95250109e-07, 4.95250104e-07, 4.95250102e-07, 4.95250100e-07,\n",
       "       4.95250099e-07, 4.95250099e-07, 4.95250099e-07, 4.95250099e-07,\n",
       "       4.95250099e-07, 4.95250098e-07, 4.95250098e-07, 4.95250098e-07,\n",
       "       4.95250098e-07, 4.95250098e-07, 4.95250098e-07, 4.95250098e-07,\n",
       "       4.95250098e-07, 4.95250098e-07, 4.95250098e-07, 4.95250098e-07,\n",
       "       4.95250098e-07, 4.95250098e-07, 4.95250098e-07, 4.95250098e-07,\n",
       "       4.95250098e-07, 4.95250098e-07, 4.95250098e-07, 4.95250098e-07,\n",
       "       4.95250098e-07, 4.95250098e-07, 4.95250098e-07, 4.95250098e-07,\n",
       "       4.95250098e-07])"
      ]
     },
     "execution_count": 7,
     "metadata": {},
     "output_type": "execute_result"
    }
   ],
   "source": [
    "vi*1e-9"
   ]
  },
  {
   "cell_type": "code",
   "execution_count": 8,
   "id": "58cedc9a",
   "metadata": {},
   "outputs": [
    {
     "data": {
      "text/plain": [
       "2.9999999999999997e-06"
      ]
     },
     "execution_count": 8,
     "metadata": {},
     "output_type": "execute_result"
    }
   ],
   "source": [
    "10e-12*3e8/1000"
   ]
  },
  {
   "cell_type": "code",
   "execution_count": 9,
   "id": "d4cfb3ec",
   "metadata": {},
   "outputs": [],
   "source": [
    "le = τe*ve"
   ]
  },
  {
   "cell_type": "code",
   "execution_count": 10,
   "id": "16c049a4",
   "metadata": {},
   "outputs": [
    {
     "data": {
      "text/plain": [
       "array([6.01106819e-09, 6.00699437e-09, 5.99511186e-09, 5.97642107e-09,\n",
       "       5.95253556e-09, 5.92560461e-09, 5.89821059e-09, 5.87324673e-09,\n",
       "       5.85378102e-09, 5.84291276e-09, 5.84362818e-09, 5.85866139e-09,\n",
       "       5.89036689e-09, 5.94060894e-09, 6.01067234e-09, 6.10119753e-09,\n",
       "       6.21214085e-09, 6.34275910e-09, 6.49161593e-09, 6.65660802e-09,\n",
       "       6.83501040e-09, 7.02354355e-09, 7.21846857e-09, 7.41571846e-09,\n",
       "       7.61107224e-09, 7.80037161e-09, 7.97976765e-09, 8.14597067e-09,\n",
       "       8.29646570e-09, 8.42965477e-09, 8.54489887e-09, 8.64245398e-09,\n",
       "       8.72331908e-09, 8.78903075e-09, 8.84144394e-09, 8.88253253e-09,\n",
       "       8.91423097e-09, 8.93832488e-09, 8.95638800e-09, 8.96975689e-09,\n",
       "       8.97953272e-09, 8.98659986e-09, 8.99165334e-09, 8.99522911e-09,\n",
       "       8.99773359e-09, 8.99947034e-09, 9.00066300e-09, 9.00147416e-09,\n",
       "       9.00202063e-09, 9.00238532e-09, 9.00262642e-09, 9.00278433e-09,\n",
       "       9.00288680e-09, 9.00295268e-09, 9.00299465e-09, 9.00302114e-09,\n",
       "       9.00303770e-09, 9.00304796e-09, 9.00305427e-09, 9.00305810e-09,\n",
       "       9.00306041e-09, 9.00306179e-09, 9.00306261e-09, 9.00306309e-09,\n",
       "       9.00306337e-09, 9.00306353e-09, 9.00306362e-09, 9.00306367e-09,\n",
       "       9.00306370e-09, 9.00306372e-09, 9.00306372e-09, 9.00306373e-09,\n",
       "       9.00306373e-09, 9.00306373e-09, 9.00306373e-09, 9.00306373e-09,\n",
       "       9.00306373e-09, 9.00306373e-09, 9.00306373e-09, 9.00306373e-09,\n",
       "       9.00306373e-09, 9.00306373e-09, 9.00306373e-09, 9.00306373e-09,\n",
       "       9.00306373e-09, 9.00306373e-09, 9.00306373e-09, 9.00306373e-09,\n",
       "       9.00306373e-09, 9.00306373e-09, 9.00306373e-09, 9.00306373e-09,\n",
       "       9.00306373e-09, 9.00306373e-09, 9.00306373e-09, 9.00306373e-09,\n",
       "       9.00306373e-09, 9.00306373e-09, 9.00306373e-09, 9.00306373e-09,\n",
       "       9.00306373e-09])"
      ]
     },
     "execution_count": 10,
     "metadata": {},
     "output_type": "execute_result"
    }
   ],
   "source": [
    "le"
   ]
  },
  {
   "cell_type": "markdown",
   "id": "dde69552",
   "metadata": {},
   "source": [
    " ## Neutrals\n",
    " \n",
    " How could neutrals effect things???"
   ]
  },
  {
   "cell_type": "code",
   "execution_count": null,
   "id": "98222af3",
   "metadata": {},
   "outputs": [],
   "source": []
  }
 ],
 "metadata": {
  "kernelspec": {
   "display_name": "Python 3 (ipykernel)",
   "language": "python",
   "name": "python3"
  },
  "language_info": {
   "codemirror_mode": {
    "name": "ipython",
    "version": 3
   },
   "file_extension": ".py",
   "mimetype": "text/x-python",
   "name": "python",
   "nbconvert_exporter": "python",
   "pygments_lexer": "ipython3",
   "version": "3.10.6"
  }
 },
 "nbformat": 4,
 "nbformat_minor": 5
}
