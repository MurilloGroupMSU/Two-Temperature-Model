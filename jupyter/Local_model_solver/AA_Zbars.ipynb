{
 "cells": [
  {
   "cell_type": "code",
   "execution_count": 1,
   "id": "4e7ca186-d5d3-429b-9344-88a09838a8d8",
   "metadata": {
    "tags": []
   },
   "outputs": [
    {
     "name": "stdout",
     "output_type": "stream",
     "text": [
      "Error:  name 'physics' is not defined\n",
      "ModuleNotFoundError: No module named 'mendeleev'\n"
     ]
    }
   ],
   "source": [
    "import numpy as np\n",
    "import pandas as pd\n",
    "\n",
    "\n",
    "from average_atom.core.average_atom import NeutralPseudoAtom as NPA\n",
    "from average_atom.core.misc import jacobi_relaxation, sor\n",
    "from average_atom.core.grids import NonUniformGrid\n",
    "from average_atom.core.physics import ThomasFermi, FermiDirac\n",
    "\n",
    "from importlib import reload\n",
    "try:\n",
    "    reload(physics)\n",
    "    reload(grids)\n",
    "    reload(average_atom_geometric)\n",
    "#     reload(average_atom)\n",
    "    reload(misc)\n",
    "except NameError as e:\n",
    "    from average_atom.core import physics as physics\n",
    "    from average_atom.core import average_atom as average_atom\n",
    "    from average_atom.core import misc as misc\n",
    "    from average_atom.core import grids as grids\n",
    "    print(\"Error: \",e)\n",
    "except Exception as e:\n",
    "    print(\"Unexpected error during reload\")\n",
    "    print(e)\n",
    "\n",
    "import matplotlib.pyplot as plt\n",
    "\n",
    "from hnc.hnc.constants import *\n",
    "from hnc.hnc.misc import rs_from_n, n_from_rs\n",
    "\n",
    "import cProfile\n",
    "\n",
    "plt.rcParams.update({'font.size': 14})\n",
    "plt.rcParams[\"figure.figsize\"] = (6,4)\n",
    "plt.rcParams[\"figure.dpi\"] = 200\n",
    "plt.rcParams['xtick.labelsize']=14\n"
   ]
  },
  {
   "cell_type": "code",
   "execution_count": null,
   "id": "4c87a42a-8161-42f8-8460-4a417af3864f",
   "metadata": {},
   "outputs": [],
   "source": [
    "element='Xe'\n",
    "\n",
    "if element=='Xe':\n",
    "    Z, A = 54, 131\n",
    "    n_i = 1.25e20 *1e6\n",
    "    m_i = A*m_p\n",
    "    r_i = 1/(4/3*π*n_i)**(1/3)*m_to_AU\n",
    "    \n",
    "    Ti_init = 300 # K\n",
    "    Te_init = 16.609524e3 # K\n",
    "\n",
    "    χ0_eV = 12.1298437  # eV See \n",
    "    χ0_J = χ0_eV*eV_to_J\n",
    "\n",
    "    ionization_file=\"../../data/Xenon_5bar_Saha_solution_data.txt\"\n",
    "    element_data_file = \"../../data/experimental_data/Xe_5bar_Te.txt\"\n",
    "    N_n, N_T = 20, 100\n",
    "    tmax=18e-9\n",
    "    dt=1e-10\n",
    "    \n",
    "\n",
    "elif element=='He':\n",
    "    Z, A = 2, 4\n",
    "    n_i = 1.83e21 *1e6\n",
    "    m_i = A*m_p\n",
    "    r_i = 1/(4/3*π*n_i)**(1/3)*m_to_AU\n",
    "\n",
    "    Ti_init = 300 # K\n",
    "    Te_init = 14.79e3 # K\n",
    "\n",
    "    χ0_eV = 24.587387936  # eV See \n",
    "    χ0_J = χ0_eV*eV_to_J\n",
    "\n",
    "    ionization_file=\"../../data/He_Saha.txt\"\n",
    "    element_data_file = \"../../data/experimental_data/He_74bar_Te.txt\"\n",
    "\n",
    "    N_n, N_T = 10, 100\n",
    "    tmax=1e-9\n",
    "    dt=1e-11\n",
    "\n",
    "\n",
    "####\n",
    "aa_kwargs = {'initialize':True, 'gradient_correction':None, 'μ_init' : 0.158, 'Zstar_init' : 'More', 'rmin':2e-2 ,'Npoints':300,\n",
    "             'name':name, 'ignore_vxc':False, 'fixed_Zstar':False, 'iet_R_over_rs':R/rs*3, 'iet_N_bins':5000, 'use_full_ne_for_nf':False}\n",
    "\n",
    "aa = NPA(Z, A, Ti_AU, Te_AU, rs, rs, **aa_kwargs)"
   ]
  }
 ],
 "metadata": {
  "kernelspec": {
   "display_name": "Python 3 (ipykernel)",
   "language": "python",
   "name": "python3"
  },
  "language_info": {
   "codemirror_mode": {
    "name": "ipython",
    "version": 3
   },
   "file_extension": ".py",
   "mimetype": "text/x-python",
   "name": "python",
   "nbconvert_exporter": "python",
   "pygments_lexer": "ipython3",
   "version": "3.10.6"
  }
 },
 "nbformat": 4,
 "nbformat_minor": 5
}
