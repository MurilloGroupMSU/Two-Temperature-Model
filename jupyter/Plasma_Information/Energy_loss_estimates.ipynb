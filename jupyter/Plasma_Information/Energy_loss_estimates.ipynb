{
 "cells": [
  {
   "cell_type": "code",
   "execution_count": 1,
   "id": "498a7109-b766-4adc-ae82-2e2154787172",
   "metadata": {
    "tags": []
   },
   "outputs": [],
   "source": [
    "import numpy as np\n",
    "import matplotlib.pyplot as plt\n",
    "import matplotlib as mpl\n",
    "from cycler import cycler\n",
    "\n",
    "from pandas import read_csv\n",
    "mpl.rcParams['lines.linewidth'] = 2.2\n",
    "mpl.rcParams['axes.spines.right'] = True\n",
    "mpl.rcParams['axes.spines.top'] = False\n",
    "mpl.rcParams['axes.labelsize'] = 14\n",
    "mpl.rcParams['ytick.labelsize'] = 12\n",
    "mpl.rcParams['ytick.labelsize'] = 12\n",
    "mpl.rcParams['lines.markersize'] = 8\n",
    "mpl.rcParams['font.sans-serif'] = ['Arial', 'Tahoma', 'DejaVu Sans', 'Lucida Grande', 'Verdana']\n",
    "mpl.rcParams['font.size'] = 12\n",
    "mpl.rcParams['axes.grid'] = True\n",
    "mpl.rcParams['grid.color'] = '#636363'\n",
    "mpl.rcParams['grid.alpha'] = 0.12\n",
    "mpl.rcParams['grid.linewidth'] = 0.7\n",
    "mpl.rcParams['grid.linestyle'] = '-'\n",
    "mpl.rcParams['axes.prop_cycle'] = cycler('color',  ['#0AB34F', '#bf009f', '#00abc3', '#8e92c5', '#cc7014', '#e32851'])\n",
    "mpl.rcParams['legend.fancybox'] = True\n",
    "mpl.rcParams['legend.framealpha'] = 0.6\n",
    "mpl.rcParams['legend.fontsize'] = 10\n",
    "mpl.rcParams['figure.figsize'] = 8, 4.9443\n",
    "mpl.rcParams['figure.dpi'] = 100\n",
    "\n",
    "from ucla.core.constants import *\n",
    "from ucla.core.local_ODE_solver import LocalModel\n",
    "from ucla.core.physics import SMT\n",
    "\n",
    "from scipy.interpolate import RegularGridInterpolator\n"
   ]
  },
  {
   "cell_type": "code",
   "execution_count": 2,
   "id": "ae39dff1-942f-47eb-a0f7-8980ed6754fd",
   "metadata": {
    "tags": []
   },
   "outputs": [
    {
     "name": "stdout",
     "output_type": "stream",
     "text": [
      "Xe ne = 1.249e+20 [1/cc] \n",
      "He ne = 1.848e+21 [1/cc] \n",
      "Ar ne = 6.244e+20 [1/cc] \n"
     ]
    }
   ],
   "source": [
    "nn_invcc_at_Pbar_TK = lambda Pbar, TK: Pbar*bar_to_AU/(TK*K_to_AU)*AU_to_invcc\n",
    "\n",
    "T_room_K = 290\n",
    "Xe_nn_invcc = nn_invcc_at_Pbar_TK(5, T_room_K)\n",
    "He_nn_invcc = nn_invcc_at_Pbar_TK(74, T_room_K)\n",
    "Ar_nn_invcc = nn_invcc_at_Pbar_TK(25, T_room_K)\n",
    "\n",
    "Xe_ionization_energies_eV = np.array([0, 12.1298437, 20.975, 31.05, 42.20 , 54.1, 66.703, 91.6, 105.9778, 179.84, 202.0, 229.02])\n",
    "Ar_ionization_energies_eV = np.array([0, 15.7596119, 27.62967, 40.735, 59.58, 74.84, 91.290])\n",
    "He_ionization_energies_eV = np.array([0, 24.587389011, 54.4177655282])\n",
    "\n",
    "print(f\"Xe ne = {Xe_nn_invcc:0.3e} [1/cc] \")\n",
    "print(f\"He ne = {He_nn_invcc:0.3e} [1/cc] \") \n",
    "print(f\"Ar ne = {Ar_nn_invcc:0.3e} [1/cc] \")\n",
    "\n",
    "Xe_TK_peak = 16.60952380952381e3 # 0 ns?\n",
    "He_TK_peak = 14.790528233151186e3 # 0.0031746031746031746 ns\n",
    "Ar_TK_peak = 17.761029411764707e3 # 0.008097165991902834 ns?"
   ]
  },
  {
   "cell_type": "markdown",
   "id": "d2be3e42-d5bc-4f29-a633-23601ff0f030",
   "metadata": {},
   "source": [
    "### Element Information"
   ]
  },
  {
   "cell_type": "code",
   "execution_count": 3,
   "id": "9403418c-b7b9-4bed-924f-71a75cbac275",
   "metadata": {
    "tags": []
   },
   "outputs": [
    {
     "name": "stdout",
     "output_type": "stream",
     "text": [
      "Cold pressure: P_cold = 25.862 bar = 0.003 GPa \n",
      "Hot pressure: P_hot = 1531.124 bar = 0.153 GPa \n",
      "Density: ρ = 41.655 [kg/m^3] =  0.042 [g/cm^3] \n",
      "Ion sphere radius: r_i = 13.716 [au]\n"
     ]
    }
   ],
   "source": [
    "element='Ar'\n",
    "\n",
    "if element=='Xe':\n",
    "    Z, A = 54, 131\n",
    "    n_i = Xe_nn_invcc *1e6\n",
    "    m_i = A*m_p\n",
    "    r_i = 1/(4/3*π*n_i)**(1/3)*m_to_AU\n",
    "    \n",
    "    Ti_init = 300 # K\n",
    "    Te_init = Xe_TK_peak # K\n",
    "\n",
    "    χ0_eV = 12.1298437  # eV See \n",
    "    χ0_J = χ0_eV*eV_to_J\n",
    "\n",
    "    ionization_file=\"../../data/Xe5bar_Saha.txt\"\n",
    "    element_data_file = \"../../data/experimental_data/Xe_5bar_Te.txt\"\n",
    "    N_n, N_T = 20, 200\n",
    "    tmax=18e-9\n",
    "    dt=1e-10\n",
    "    \n",
    "\n",
    "elif element=='He':\n",
    "    Z, A = 2, 4\n",
    "    n_i = He_nn_invcc *1e6\n",
    "    m_i = A*m_p\n",
    "    r_i = 1/(4/3*π*n_i)**(1/3)*m_to_AU\n",
    "\n",
    "    Ti_init = 300 # K\n",
    "    Te_init = He_TK_peak # K\n",
    "\n",
    "    χ0_eV = 24.587389011  # eV See \n",
    "    χ0_J = χ0_eV*eV_to_J\n",
    "\n",
    "    ionization_file=\"../../data/He74bar_Saha.txt\"\n",
    "    element_data_file = \"../../data/experimental_data/He_74bar_Te.txt\"\n",
    "\n",
    "    N_n, N_T = 20, 200\n",
    "    tmax=1e-9\n",
    "    dt=1e-11\n",
    "\n",
    "    \n",
    "elif element=='Ar':\n",
    "    Z, A = 18, 39.948\n",
    "    n_i = Ar_nn_invcc *1e6\n",
    "    m_i = A*m_p\n",
    "    r_i = 1/(4/3*π*n_i)**(1/3)*m_to_AU\n",
    "\n",
    "    Ti_init = 300 # K\n",
    "    Te_init = Ar_TK_peak # K\n",
    "\n",
    "    χ0_eV = 15.7596119  # eV See \n",
    "    χ0_J = χ0_eV*eV_to_J\n",
    "\n",
    "    ionization_file=\"../../data/Ar25bar_Saha.txt\"\n",
    "    element_data_file = \"../../data/experimental_data/Ar_25bar_Te.txt\"\n",
    "\n",
    "    N_n, N_T = 20, 200\n",
    "    tmax=4.5e-9\n",
    "    dt=1e-11\n",
    "\n",
    "\n",
    "print(f\"Cold pressure: P_cold = {n_i*Ti_init*k_B * Pa_to_AU*AU_to_bar:0.3f} bar = {n_i*Ti_init*k_B * 1e-9:0.3f} GPa \")\n",
    "print(f\"Hot pressure: P_hot = {n_i*Te_init*k_B * Pa_to_AU*AU_to_bar:0.3f} bar = {n_i*Te_init*k_B * 1e-9:0.3f} GPa \")\n",
    "print(f\"Density: ρ = {n_i*m_i:0.3f} [kg/m^3] =  {1e-3*n_i*m_i:0.3f} [g/cm^3] \")\n",
    "print(f\"Ion sphere radius: r_i = {r_i:0.3f} [au]\")\n"
   ]
  },
  {
   "cell_type": "code",
   "execution_count": 4,
   "id": "9871cabe-d801-476a-99f1-462ca6d84336",
   "metadata": {
    "tags": []
   },
   "outputs": [],
   "source": [
    "\n",
    "\n",
    "def make_ionization_function(Z, n_i, Zbar_rescale = 1, χ_rescale = 1):\n",
    "    \"\"\"\n",
    "    Gets the ionization profile of the ion using TF AA fit.\n",
    "    Args:\n",
    "        None\n",
    "    Returns:\n",
    "        None\n",
    "    \"\"\"\n",
    "\n",
    "    saved_data = read_csv(ionization_file, delim_whitespace=True, header=1)\n",
    "    n_invm3_mesh = np.array(saved_data['n[1/cc]']).reshape(N_n, N_T)*1e6\n",
    "    T_K_mesh     = np.array(saved_data['T[K]']).reshape(N_n, N_T)\n",
    "    Zbar_mesh    = np.array(saved_data['Zbar']).reshape(N_n, N_T)\n",
    "    χ_J_mesh    = np.array(saved_data['χ_1[eV]']).reshape(N_n, N_T)*eV_to_J\n",
    "    Δχ_J_mesh    = χ0_J - χ_J_mesh\n",
    "    \n",
    "    zbar_interp = RegularGridInterpolator((n_invm3_mesh[:,0],T_K_mesh[0,:]), Zbar_mesh, bounds_error=False)\n",
    "    Δχ_interp   = RegularGridInterpolator((n_invm3_mesh[:,0],T_K_mesh[0,:]), Δχ_J_mesh, bounds_error=False)\n",
    "        \n",
    "    @np.vectorize()\n",
    "    def Zbar_func(Te): # in kelvin\n",
    "        # above_n_i = n_i > np.max(n_invm3_mesh[:,0])\n",
    "        # below_n_i = n_i < np.min(n_invm3_mesh[:,0])\n",
    "        above_Te  = Te > np.max(T_K_mesh[0,:])\n",
    "        below_Te  = Te < np.min(T_K_mesh[0,:])\n",
    "\n",
    "        if above_Te:\n",
    "            return 1.0\n",
    "        elif below_Te:\n",
    "            return np.min(Zbar_mesh)\n",
    "        else:\n",
    "            return Zbar_rescale * zbar_interp((n_i,Te))\n",
    "\n",
    "    @np.vectorize()\n",
    "    def χ_func(Te):\n",
    "        # above_n_i = n_i > np.max(n_invm3_mesh[:,0])\n",
    "        # below_n_i = n_i < np.min(n_invm3_mesh[:,0])\n",
    "        above_Te  = Te > np.max(T_K_mesh[0,:])\n",
    "        below_Te  = Te < np.min(T_K_mesh[0,:])\n",
    "\n",
    "        if above_Te:\n",
    "            n_i_closest = np.argmin( np.abs( n_invm3_mesh[:,0]-n_i ))\n",
    "            return Δχ_J_mesh[n_i_closest,-1]\n",
    "        elif below_Te:\n",
    "            n_i_closest = np.argmin( np.abs( n_invm3_mesh[:,0]-n_i ))\n",
    "            return Δχ_J_mesh[n_i_closest,0]\n",
    "        return χ_rescale * (χ0_J - Δχ_interp((n_i,Te)))\n",
    "\n",
    "    return Zbar_func, χ_func\n",
    "Zbar_func = make_ionization_function(Z, n_i)[0]"
   ]
  },
  {
   "cell_type": "code",
   "execution_count": 5,
   "id": "7da9121c-c87f-4197-98e8-cce308428f87",
   "metadata": {
    "tags": []
   },
   "outputs": [],
   "source": [
    "Zbar = 1#Zbar_func(Ar_TK_peak)\n",
    "n_e  = n_i * Zbar\n",
    "x_1  = Zbar\n",
    "Te   = Ar_TK_peak\n",
    "Ti   = 300\n",
    "Z1   = 1"
   ]
  },
  {
   "cell_type": "code",
   "execution_count": 6,
   "id": "c64cbcec-f73a-47f0-b4bf-97e6ac601fd9",
   "metadata": {
    "tags": []
   },
   "outputs": [],
   "source": [
    "R = 40e-6/2 # Using initial FWHM~40 μm\n",
    "Area = 4*π*R**2\n",
    "Vol  = 4/3*π*R**3\n",
    "Ee_init = 1.5*n_e*k_B*Te*Vol\n",
    "\n",
    "# G electron-ion equilibration energy loss\n",
    "dEdt_G = SMT.ei_coupling_factor(n_e, n_i*x_1, m_i, Z1, Te, Ti) *(Te-Ti)*Vol # G: [kB/m^3/s]  -> J/s\n",
    "dTdt_G = dEdt_G * Te/Ee_init *1e-3*1e-9\n",
    "τ_G = (Ee_init/dEdt_G)*1e9\n",
    "\n",
    "# σ_radiation energy loss\n",
    "ε = 1 # emissivity\n",
    "dEdt_γ = ε*σ_SB*Area* (Te)**4 # J/s\n",
    "dTdt_γ = dEdt_γ * Te/Ee_init *1e-3*1e-9\n",
    "τ_γ = (Ee_init/dEdt_γ)*1e9\n",
    "\n",
    "# Thermal Conduction\n",
    "dTdr = (Te-Ti)/R\n",
    "dEdt_κi = SMT.ion_thermal_conductivity(n_e, n_i*x_1, m_i, Z1, Te, Ti) * dTdr * Area  # J/s\n",
    "dEdt_κe = SMT.electron_thermal_conductivity(n_e, n_i*x_1, m_i, Z1, Te, Ti) * dTdr * Area  # J/s\n",
    "dEdt_κ = dEdt_κe + dEdt_κi\n",
    "dTdt_κ = dEdt_κ * Te/Ee_init *1e-3*1e-9\n",
    "τ_κ = (Ee_init/dEdt_κ)*1e9\n",
    "\n",
    "# Work\n",
    "γ = 5/3\n",
    "c_sound = np.sqrt(γ*k_B*Te/m_i)\n",
    "dRdt = c_sound\n",
    "dVdt = 4*π*R**2*dRdt\n",
    "P = n_e*k_B*Te\n",
    "dEdt_PdV = P*dVdt #  J/S\n",
    "dTdt_PdV = dEdt_PdV * Te/Ee_init *1e-3*1e-9\n",
    "τ_PdV    = (Ee_init/dEdt_PdV)*1e9 \n",
    "\n",
    "# Adiabatic work\n",
    "# T(t) = T_0 (R_0/R(t))^{4/3} -> dTdt = T(t) * -4/3 * dRdt/R\n",
    "dEdt_PdV_adiabatic = Ee_init*4/3 * dRdt/R\n",
    "dTdt_PdV_adiabatic = dEdt_PdV_adiabatic * Te/Ee_init *1e-3*1e-9\n",
    "τ_PdV_adiabatic = (Ee_init/dEdt_PdV_adiabatic)*1e9 \n",
    "\n"
   ]
  },
  {
   "cell_type": "code",
   "execution_count": 7,
   "id": "a70d8293-8217-4679-9a1a-6b45f90122bd",
   "metadata": {
    "tags": []
   },
   "outputs": [
    {
     "name": "stdout",
     "output_type": "stream",
     "text": [
      "Electron-ion Equilibration  : dE/dt = 3.474e+04 [J/s], dT/dt = 80.168 [kK/ns], τ_G = 0.222 [ns] \n",
      "Thermal Conduction          : dE/dt = 1.963e+02 [J/s], dT/dt =  0.453 [kK/ns], τ_κ = 39.212 [ns] \n",
      "Radiation Loss              : dE/dt = 2.836e+01 [J/s], dT/dt =  0.065 [kK/ns], τ_γ = 2.713e+02 [ns] \n",
      "Work ('max' possible)       : dE/dt = 1.905e+03 [J/s], dT/dt =  4.396 [kK/ns], τ_PdV = 4.040e+00 [ns] \n"
     ]
    }
   ],
   "source": [
    "print(f\"Electron-ion Equilibration  : dE/dt = {dEdt_G:0.3e} [J/s], dT/dt = {dTdt_G:6.3f} [kK/ns], τ_G = {τ_G:0.3f} [ns] \")\n",
    "print(f\"Thermal Conduction          : dE/dt = {dEdt_κ:0.3e} [J/s], dT/dt = {dTdt_κ:6.3f} [kK/ns], τ_κ = {τ_κ:0.3f} [ns] \")\n",
    "print(f\"Radiation Loss              : dE/dt = {dEdt_γ:0.3e} [J/s], dT/dt = {dTdt_γ:6.3f} [kK/ns], τ_γ = {τ_γ:0.3e} [ns] \")\n",
    "print(f\"Work ('max' possible)       : dE/dt = {dEdt_PdV:0.3e} [J/s], dT/dt = {dTdt_PdV:6.3f} [kK/ns], τ_PdV = {τ_PdV:0.3e} [ns] \")\n",
    "# print(f\"Adiabatic (Mora) Work       : dE/dt = {dEdt_PdV_adiabatic:0.3e} [J/s], dT/dt = {dTdt_PdV_adiabatic:6.3f} [kK/ns], τ_PdV = {τ_PdV_adiabatic:0.3e} [ns] \")"
   ]
  },
  {
   "cell_type": "markdown",
   "id": "0d92f52d-6669-435e-8b81-367bedf0a771",
   "metadata": {},
   "source": [
    "\\item large $\\chi_{IPD}$ \n",
    "\\item $\\Gamma_{ii} \\gg 1$ (early) to $\\Gamma_{ii} \\sim 1$ (late)\n",
    "\\item $D_{Ar}/\\ell^{MFP}_{photon} > 3$\n"
   ]
  },
  {
   "cell_type": "markdown",
   "id": "7f516996-a31f-4c7a-aa4d-983b4e047ba0",
   "metadata": {},
   "source": [
    "# Expansion/Contraction"
   ]
  },
  {
   "cell_type": "code",
   "execution_count": 8,
   "id": "35b31b62-0549-4893-8457-0cfa5719277f",
   "metadata": {},
   "outputs": [],
   "source": [
    "from scipy.optimize import curve_fit\n",
    "from pandas import read_csv"
   ]
  },
  {
   "cell_type": "code",
   "execution_count": 9,
   "id": "cfd5c582-0682-4b8d-9aea-3bd5e47172c2",
   "metadata": {},
   "outputs": [],
   "source": [
    "Ar_FWHM_data = read_csv(\"../../data/experimental_data/Ar_25bar_FWHM.txt\", header=1, delim_whitespace=True)\n",
    "\n",
    "def MM_func(t_ns, A_1, A_2, τ_1, τ_2):\n",
    "    return A_1*np.exp(-t_ns/τ_1) + A_2*np.exp(-t_ns/τ_2)\n"
   ]
  },
  {
   "cell_type": "code",
   "execution_count": 10,
   "id": "09d6b1b2-6e81-4c6a-8f4f-2ebb0fa88dfd",
   "metadata": {},
   "outputs": [
    {
     "data": {
      "text/plain": [
       "(array([6.05781946e+00, 3.38579839e+01, 2.14864917e-01, 2.41235317e+02]),\n",
       " array([[ 3.22171730e-02, -6.29221518e-03, -7.31254295e-04,\n",
       "          3.68435321e+00],\n",
       "        [-6.29221518e-03,  1.02289307e-02, -9.35962298e-04,\n",
       "         -5.78428415e+00],\n",
       "        [-7.31254295e-04, -9.35962298e-04,  2.18777283e-04,\n",
       "          5.09718821e-01],\n",
       "        [ 3.68435321e+00, -5.78428415e+00,  5.09718821e-01,\n",
       "          3.78782267e+03]]))"
      ]
     },
     "execution_count": 10,
     "metadata": {},
     "output_type": "execute_result"
    }
   ],
   "source": [
    "p0 = [6, 34, 0.2, 200]\n",
    "MM_fit = curve_fit(MM_func, Ar_FWHM_data['t[ns]'], Ar_FWHM_data['FWHM[μm]'], p0=p0)\n",
    "MM_fit"
   ]
  },
  {
   "cell_type": "code",
   "execution_count": 11,
   "id": "019dadd9-2e49-4afd-bc52-da72785b06c2",
   "metadata": {},
   "outputs": [
    {
     "data": {
      "text/plain": [
       "<matplotlib.legend.Legend at 0x7f6480e3e7a0>"
      ]
     },
     "execution_count": 11,
     "metadata": {},
     "output_type": "execute_result"
    },
    {
     "data": {
      "image/png": "[encoded data removed]",
      "text/plain": [
       "<Figure size 800x494.43 with 1 Axes>"
      ]
     },
     "metadata": {},
     "output_type": "display_data"
    }
   ],
   "source": [
    "fig, ax = plt.subplots()\n",
    "\n",
    "R_fit_data = MM_func(Ar_FWHM_data['t[ns]'], *MM_fit[0])\n",
    "\n",
    "ax.plot(Ar_FWHM_data['t[ns]'], Ar_FWHM_data['FWHM[μm]'], label='Experiment')\n",
    "ax.plot(Ar_FWHM_data['t[ns]'], R_fit_data, label=r\"$A_1 e^{-t/\\tau_1} + A_2 e^{-t/\\tau_2}$\")\n",
    "\n",
    "ax.set_xlabel(\"t [ns]\")\n",
    "ax.set_ylabel(\"FWHM [μm]\")\n",
    "\n",
    "ax.set_title(\"Argon 25 bar\")\n",
    "ax.legend()\n",
    "# ax.set_xscale('log')"
   ]
  },
  {
   "cell_type": "code",
   "execution_count": 12,
   "id": "16eac592-87f9-45ac-b547-8d50f450ac3d",
   "metadata": {},
   "outputs": [],
   "source": [
    "Ar_Te_data = read_csv(\"../../data/experimental_data/Ar_25bar_Te.txt\", header=1, delim_whitespace=True)"
   ]
  },
  {
   "cell_type": "code",
   "execution_count": 13,
   "id": "ac34357c-6f2a-4b55-9f23-01a23fd65f52",
   "metadata": {},
   "outputs": [],
   "source": [
    "MM_Mora_T_fit = Ar_Te_data['T[kK]'][0] * (R_fit_data[0]/R_fit_data)**(4/3)"
   ]
  },
  {
   "cell_type": "code",
   "execution_count": 14,
   "id": "bc4850bc-4b9e-401e-a5b6-754bfb6a1419",
   "metadata": {},
   "outputs": [
    {
     "data": {
      "text/plain": [
       "<matplotlib.legend.Legend at 0x7f647caf06a0>"
      ]
     },
     "execution_count": 14,
     "metadata": {},
     "output_type": "execute_result"
    },
    {
     "data": {
      "image/png": "[encoded data removed]",
      "text/plain": [
       "<Figure size 800x494.43 with 1 Axes>"
      ]
     },
     "metadata": {},
     "output_type": "display_data"
    }
   ],
   "source": [
    "fig, ax = plt.subplots()\n",
    "\n",
    "ax.plot(Ar_Te_data['t[ns]'], Ar_Te_data['T[kK]'], label=\"Experiment\")\n",
    "ax.plot(Ar_FWHM_data['t[ns]'], MM_Mora_T_fit, label=\"Mora Adiabatic\")\n",
    "# ax.plot(Ar_Te_data['t[ns]'], MM_func(Ar_FWHM_data['t[ns]'], *MM_fit[0]))\n",
    "\n",
    "ax.set_xlabel(\"t [ns]\")\n",
    "ax.set_ylabel(r\"$T_e$ [kK]\")\n",
    "\n",
    "ax.set_title(\"Argon 25 bar\")\n",
    "ax.legend()"
   ]
  },
  {
   "cell_type": "code",
   "execution_count": null,
   "id": "0fb0fd15-a900-46b8-ba79-3afab62a0b01",
   "metadata": {},
   "outputs": [],
   "source": []
  }
 ],
 "metadata": {
  "kernelspec": {
   "display_name": "Python 3 (ipykernel)",
   "language": "python",
   "name": "python3"
  },
  "language_info": {
   "codemirror_mode": {
    "name": "ipython",
    "version": 3
   },
   "file_extension": ".py",
   "mimetype": "text/x-python",
   "name": "python",
   "nbconvert_exporter": "python",
   "pygments_lexer": "ipython3",
   "version": "3.10.6"
  }
 },
 "nbformat": 4,
 "nbformat_minor": 5
}
